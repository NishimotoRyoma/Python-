{
  "nbformat": 4,
  "nbformat_minor": 0,
  "metadata": {
    "colab": {
      "name": "Untitled2.ipynb",
      "provenance": []
    },
    "kernelspec": {
      "name": "python3",
      "display_name": "Python 3"
    }
  },
  "cells": [
    {
      "cell_type": "markdown",
      "metadata": {
        "id": "BU6RmVe4JFix",
        "colab_type": "text"
      },
      "source": [
        "<h1>Flaskを使ったデータの可視化</h1>\n",
        "\n",
        "<p>とりあえず、データをアップロードして、plotを出力するところまで進んだので共有します。flask難しい...</p>"
      ]
    },
    {
      "cell_type": "markdown",
      "metadata": {
        "id": "Yy_ZCrkFSuth",
        "colab_type": "text"
      },
      "source": [
        "<h2>パッケージと初期設定</h2>"
      ]
    },
    {
      "cell_type": "code",
      "metadata": {
        "id": "3b0y0iAGI8Qx",
        "colab_type": "code",
        "colab": {}
      },
      "source": [
        "from flask import Flask,render_template,request,make_response, jsonify,send_file\n",
        "import numpy as np\n",
        "import matplotlib.pyplot as plt\n",
        "import os\n",
        "import io\n",
        "from matplotlib.backends.backend_agg import FigureCanvasAgg\n",
        "\n",
        "app = Flask(__name__)\n",
        "UPLOAD_DIR_PATH="
      ],
      "execution_count": 0,
      "outputs": []
    },
    {
      "cell_type": "markdown",
      "metadata": {
        "id": "AhiCcmUSPZUN",
        "colab_type": "text"
      },
      "source": [
        "**メモ**\n",
        "<p>UPLOAD_DIR_PATHには、アップロードしたファイルを保存するディレクトリの絶対パスを文字列の形式で入力する。</p>"
      ]
    },
    {
      "cell_type": "markdown",
      "metadata": {
        "id": "Dg5tQVsWSlqJ",
        "colab_type": "text"
      },
      "source": [
        "<h2>アップロード前の振る舞い</h2>"
      ]
    },
    {
      "cell_type": "code",
      "metadata": {
        "id": "BwcDGK_TPQLQ",
        "colab_type": "code",
        "colab": {}
      },
      "source": [
        "@app.route('/')\n",
        "def upload_file():\n",
        "   return render_template('hello.html', title='flask test')"
      ],
      "execution_count": 0,
      "outputs": []
    },
    {
      "cell_type": "markdown",
      "metadata": {
        "id": "UvImqcZiP3xR",
        "colab_type": "text"
      },
      "source": [
        "**hello.html**\n",
        "```\n",
        "{% extends \"layout.html\" %}\n",
        "{% block content %}\n",
        "<h3>こんにちは</h3>\n",
        "<p>190930No2LaCaCuo.datを入力するとplotを返します。</p>\n",
        "<form action=\"/upload\" method=\"post\" enctype=\"multipart/form-data\">\n",
        "  <input type=\"file\" name=\"uploadfiles\"/>\n",
        "  <input type=\"submit\" value=\"submit\"/>\n",
        "{% endblock %}\n",
        "```\n",
        "**メモ**\n",
        "<p>formタグのactionにはデータの送信先(URIと言うらしい)を書く。enctypeはデータの形式。</p>\n",
        "<p>inputタグを変更すると、直入力の方式にしたり色々出来るみたい。</p>\n",
        "\n",
        "[formタグについて](https://qiita.com/mikuhonda/items/f3126380d3340f3d8a2b)\n",
        "\n",
        "**layout.html**\n",
        "```\n",
        "<!doctype html>\n",
        "<html>\n",
        "\t<head>\n",
        "\t\t<title>{{ title }}</title>\n",
        "\t</head>\n",
        "\t<body>\n",
        "\t\t{% block content %}\n",
        "\t\t<!-- ここにメインコンテンツを書く -->\n",
        "\t\t{% endblock %}\n",
        "\t</body>\n",
        "</html>\n",
        "```"
      ]
    },
    {
      "cell_type": "markdown",
      "metadata": {
        "id": "uAujcZQnSjP5",
        "colab_type": "text"
      },
      "source": [
        "<h2>アップロード後の振る舞い</h2>\n",
        "<p>下のように書いてみました。個別に説明を加えていきます。</p>"
      ]
    },
    {
      "cell_type": "code",
      "metadata": {
        "id": "yHrK6QxyQpX1",
        "colab_type": "code",
        "colab": {}
      },
      "source": [
        "@app.route(\"/upload\",methods=[\"POST\"])\n",
        "def after_upload():\n",
        "\n",
        "    file = request.files['uploadfiles']\n",
        "    fileName = file.filename\n",
        "\n",
        "    file.save(os.path.join(UPLOAD_DIR_PATH,fileName))\n",
        "    \n",
        "    f=open(os.path.join(UPLOAD_DIR_PATH,fileName))\n",
        "    dataline = f.readline()\n",
        "    data1=[]\n",
        "    while dataline:\n",
        "        temp = dataline.strip(\"\\n\").split(\"\\t\")     #文字列に対して\"\\n\"を除去し、\"\\t\"で分割する処理をしている\n",
        "        temp = list(map(float,temp))        #tempに保存しているリストの各要素をfloat型に変換\n",
        "        data1.append(temp)        #tempをdata1に追加\n",
        "        dataline=f.readline()\n",
        "    f.close() \n",
        "    data1 = np.array(data1)\n",
        "    fig, ax = plt.subplots()\n",
        "    X=data1[:,0]\n",
        "    Y=data1[:,1]\n",
        "    ax.plot(X,Y)\n",
        "    \n",
        "    \n",
        "    canvas = FigureCanvasAgg(fig)\n",
        "    buf = io.BytesIO()\n",
        "    canvas.print_png(buf)\n",
        "    data = buf.getvalue()\n",
        "    \n",
        "    response = make_response(data)\n",
        "    response.headers['Content-Type'] = 'image/png'\n",
        "    response.headers['Content-Length'] = len(data)\n",
        "    return response\n",
        "\n",
        "\n",
        "if __name__ == \"__main__\":\n",
        "    app.run(debug=True)"
      ],
      "execution_count": 0,
      "outputs": []
    },
    {
      "cell_type": "markdown",
      "metadata": {
        "id": "VT4IDJd_RIUD",
        "colab_type": "text"
      },
      "source": [
        "**メモ**\n",
        "\n",
        "以下の2記事を参考にしました。\n",
        "\n",
        "[アップロード等に関するまとめ記事](https://qiita.com/5zm/items/eb1ae9b349ec8a5568dc)\n",
        "\n",
        "[matplotlibの利用(Flask)](https://qiita.com/5t111111/items/3d9efdbcc630daf0e48f)\n",
        "\n",
        "<p>以下はコードの説明になります。</p>\n",
        "<p>\n",
        "\n",
        "```python\n",
        "file = request.files['uploadfiles']\n",
        "    fileName = file.filename\n",
        "\n",
        "    file.save(os.path.join(UPLOAD_DIR_PATH,fileName))\n",
        "```\n",
        "\n",
        "</p>\n",
        "<p>hello.htmlで読み込んだファイルはrequest.filesというリストの中に\"uploadfiles\"という名前で保存していました。とりあえず、このアップロードされてきたファイルを最初に設定したディレクトリに保存します。</p>\n",
        "\n",
        "```python\n",
        "canvas = FigureCanvasAgg(fig)\n",
        "buf = io.BytesIO()\n",
        "canvas.print_png(buf)\n",
        "```\n",
        "<p>まず、subplotsのfigをFigureCanvasAggに引き渡し、ファイルオブジェクトであるbufにpngを書き込む処理としてprint_pngを行っています。print_pngの第一引数は次の通り</p>\n",
        "\n",
        ">filename_or_obj : str or PathLike or file-like object\n",
        "    The file to write to.\n",
        "\n",
        "[print_png](https://kite.com/python/docs/matplotlib.backends.backend_tkagg.FigureCanvas.print_png)\n",
        "\n",
        "```python\n",
        "data = buf.getvalue()\n",
        "    \n",
        "    response = make_response(data)\n",
        "    response.headers['Content-Type'] = 'image/png'\n",
        "    response.headers['Content-Length'] = len(data)\n",
        "    return response\n",
        "```\n",
        "\n",
        "<p>getvalue : bufの値を全て出力します。</p>\n",
        "<p>make_response : flaskの中でheaderとかいうattribute的なのがあって、それを弄りたいときはこれを使うらしい。あまりピンときてない。</p>\n",
        "\n",
        "[make_responce](https://kite.com/python/docs/flask.make_response)\n",
        "\n"
      ]
    }
  ]
}