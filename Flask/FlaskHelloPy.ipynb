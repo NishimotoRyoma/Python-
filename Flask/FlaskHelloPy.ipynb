{
  "nbformat": 4,
  "nbformat_minor": 0,
  "metadata": {
    "colab": {
      "name": "FlaskHelloPy.ipynb",
      "provenance": [],
      "collapsed_sections": []
    },
    "kernelspec": {
      "display_name": "Python 3",
      "language": "python",
      "name": "python3"
    },
    "language_info": {
      "codemirror_mode": {
        "name": "ipython",
        "version": 3
      },
      "file_extension": ".py",
      "mimetype": "text/x-python",
      "name": "python",
      "nbconvert_exporter": "python",
      "pygments_lexer": "ipython3",
      "version": "3.5.2"
    }
  },
  "cells": [
    {
      "cell_type": "markdown",
      "metadata": {
        "colab_type": "text",
        "deletable": true,
        "editable": true,
        "id": "5priSh_05Kpj"
      },
      "source": [
        "<h1>Flask の簡単な使い方のコードノート<h1>"
      ]
    },
    {
      "cell_type": "markdown",
      "metadata": {
        "colab_type": "text",
        "deletable": true,
        "editable": true,
        "id": "n0LzrxZj5ma_"
      },
      "source": [
        "[Flaskの簡単な使い方](https://qiita.com/zaburo/items/5091041a5afb2a7dffc8)"
      ]
    },
    {
      "cell_type": "markdown",
      "metadata": {
        "colab_type": "text",
        "deletable": true,
        "editable": true,
        "id": "xTV8aUhoBZaL"
      },
      "source": [
        "[FlaskのAPIドキュメント](https://flask.palletsprojects.com/en/1.1.x/api/)"
      ]
    },
    {
      "cell_type": "markdown",
      "metadata": {
        "colab_type": "text",
        "deletable": true,
        "editable": true,
        "id": "a1yqWYkE50Tm"
      },
      "source": [
        "<h2>Hello world<h2>"
      ]
    },
    {
      "cell_type": "code",
      "metadata": {
        "colab_type": "code",
        "deletable": true,
        "editable": true,
        "id": "9ETSBZ6J57LC",
        "colab": {}
      },
      "source": [
        "from flask import Flask\n",
        "app = Flask(__name__)"
      ],
      "execution_count": 0,
      "outputs": []
    },
    {
      "cell_type": "markdown",
      "metadata": {
        "colab_type": "text",
        "deletable": true,
        "editable": true,
        "id": "KichjsK_6H90"
      },
      "source": [
        "**メモ**\n",
        "<p>Flaskクラスのインスタンスを作ってappに渡している。</p>\n",
        "<p>以下では、@app.route(\"\")で、ウェブアプリケーションの階層構造を考えているらしい。</p>\n",
        "<p>例えば http://hogehoge を基準に、@app.route(\"/fugafuga\")としてやると、http://hogehoge/fugafuga について記述することが出来る\n",
        "</p>\n",
        "<p>@デコレータを使っているので、多分@app.route()以下に書かれたメソッドとURLを結びつけるみたいなことをしている？</p>\n",
        "<p>メソッドの動作がそのままurlに反映されるのは変なのーって感じがする</p>"
      ]
    },
    {
      "cell_type": "code",
      "metadata": {
        "colab_type": "code",
        "deletable": true,
        "editable": true,
        "id": "0Gaak9C38DKe",
        "colab": {}
      },
      "source": [
        "@app.route('/')\n",
        "def hello():\n",
        "    name = \"Hello World\"\n",
        "    return name"
      ],
      "execution_count": 0,
      "outputs": []
    },
    {
      "cell_type": "markdown",
      "metadata": {
        "colab_type": "text",
        "deletable": true,
        "editable": true,
        "id": "kk0rxNPc6psE"
      },
      "source": [
        "**メモ**\n",
        "<p>一般にPythonではdef hogehoge():でhogehogeメソッドを定義することが出来る。</p>"
      ]
    },
    {
      "cell_type": "code",
      "metadata": {
        "colab_type": "code",
        "deletable": true,
        "editable": true,
        "id": "xPbmoYSK-axW",
        "colab": {}
      },
      "source": [
        "@app.route('/good')\n",
        "def good():\n",
        "    name = \"Good\"\n",
        "    return name\n",
        "\n",
        "\n",
        "if __name__ == \"__main__\":\n",
        "    app.run(debug=True)"
      ],
      "execution_count": 0,
      "outputs": []
    },
    {
      "cell_type": "markdown",
      "metadata": {
        "colab_type": "text",
        "deletable": true,
        "editable": true,
        "id": "qtb9PPAn-jjP"
      },
      "source": [
        "**メモ**\n",
        "<p>一般にPythonでは、if __name__==\"__main__\":内で実行するコードを記述する。Javaでいうところのpublic static void mainみたいなやつ。</p>\n",
        "<p>appは今Flaskクラスのインスタンスなので、Flaskの中にあるrunっていうウェブアプリケーションを実行するメソッドを実行している。</p>\n",
        "<p>公式のドキュメントによると、runのdebugをTrueにすることで、コードの更新を自動的に結果に反映したりしてくれるっぽい(要はデバッグモード)</p>"
      ]
    },
    {
      "cell_type": "markdown",
      "metadata": {
        "deletable": true,
        "editable": true,
        "id": "zdleyBfdIRFm",
        "colab_type": "text"
      },
      "source": [
        "**エラーの解決1**\n",
        "<p>コードを修正して、もう一度起動したらエラーが出た</p>\n",
        "<p>[Errno 48] Address already in use </p>\n",
        "<p>Addressを既に使っているとのことで、一回セッションを解除しないといけないっぽい。pythonサイドでセッションを切るコードがあれば良いのだけれど、見当たらなかったので、ターミナルの方で切ることにした。</p>\n",
        "<p>lsof -i :5000でprocess IDを調べると</p>\n",
        "<p>COMMAND  PID           USER   FD   TYPE             DEVICE SIZE/OFF NODE NAME</p>\n",
        "<p>Python  7216 nishimotoryoma</p>\n",
        "<p>なので、kill 7216を実行したら再実行できた。</p>"
      ]
    },
    {
      "cell_type": "markdown",
      "metadata": {
        "collapsed": true,
        "deletable": true,
        "editable": true,
        "id": "EBJkiJvaIRFn",
        "colab_type": "text"
      },
      "source": [
        "<h2>Jinja2の利用</h2>"
      ]
    },
    {
      "cell_type": "markdown",
      "metadata": {
        "deletable": true,
        "editable": true,
        "id": "y82yNmQSIRFo",
        "colab_type": "text"
      },
      "source": [
        "サイトにあるlayout.htmlとhello.htmlを作成し、以下を実行した。"
      ]
    },
    {
      "cell_type": "code",
      "metadata": {
        "deletable": true,
        "editable": true,
        "id": "RwaqJIfvIRFp",
        "colab_type": "code",
        "colab": {}
      },
      "source": [
        "from flask import Flask, render_template #追加\n",
        "\n",
        "app = Flask(__name__)\n",
        "\n",
        "@app.route('/')\n",
        "def hello():\n",
        "    name = \"Hoge\"\n",
        "    #return name\n",
        "    return render_template('hello.html', title='flask test', name=name) #変更\n",
        "\n",
        "if __name__ == \"__main__\":\n",
        "    app.run(debug=True)"
      ],
      "execution_count": 0,
      "outputs": []
    },
    {
      "cell_type": "markdown",
      "metadata": {
        "deletable": true,
        "editable": true,
        "id": "wN3hw1c2IRFr",
        "colab_type": "text"
      },
      "source": [
        "**エラーの解決2**\n",
        "<p>なんか.pyファイルと同じフォルダに.htmlを置いていたらエラーが出た。</p>\n",
        "<p>jinja2.exceptions.TemplateNotFound: hello.html</p>\n",
        "[解決に利用した記事](http://kenteiblog.hatenablog.com/entry/python-flask-temp-engine)\n",
        "<p>templatesフォルダを作ってそこにhtmlを放り込んでおく必要があるっぽい</p>"
      ]
    }
  ]
}