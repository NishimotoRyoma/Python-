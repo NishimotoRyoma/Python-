{
  "nbformat": 4,
  "nbformat_minor": 0,
  "metadata": {
    "colab": {
      "name": "dataRead.ipynb",
      "provenance": []
    },
    "kernelspec": {
      "name": "python3",
      "display_name": "Python 3"
    }
  },
  "cells": [
    {
      "cell_type": "markdown",
      "metadata": {
        "id": "kpMw9-u53xFd",
        "colab_type": "text"
      },
      "source": [
        "<h1>実験データの可視化について</h1>"
      ]
    },
    {
      "cell_type": "markdown",
      "metadata": {
        "id": "FzoEhYKG3-yA",
        "colab_type": "text"
      },
      "source": [
        "<p>読み込み方は色々ありそうだけど、txtデータとして読み込んで、リストに変換後、np.arrayに変換することにしました。</p>"
      ]
    },
    {
      "cell_type": "markdown",
      "metadata": {
        "id": "pZvlLAfm8RKH",
        "colab_type": "text"
      },
      "source": [
        "<h2>190930No2LaCaCuo.datデータの読み込み</h2>"
      ]
    },
    {
      "cell_type": "code",
      "metadata": {
        "id": "joaIUuTs3r3J",
        "colab_type": "code",
        "colab": {}
      },
      "source": [
        "import numpy as np\n",
        "import matplotlib.pyplot as plt\n",
        "%matplotlib inline\n",
        "\n",
        "f = open(\"190930No2LaCaCuo.dat\")      #ファイルの一時読み込み\n",
        "dataline = f.readline()\n",
        "data1=[]   #データを置いておく用のリスト"
      ],
      "execution_count": 0,
      "outputs": []
    },
    {
      "cell_type": "markdown",
      "metadata": {
        "id": "R5zOWVSw5B5C",
        "colab_type": "text"
      },
      "source": [
        "**メモ**\n",
        "<p>Jupyter Notebookでmatplotlibを表示するには%matplotlib inlineと書いておく必要があるみたいなので書いています。</p>\n",
        "<p>readlineメソッドは、openしたファイルに対して、一行ずつ読み込みを行います。つまり、この状況では、datalineにfの最初の一行目が文字列として入っていることになります。</p>"
      ]
    },
    {
      "cell_type": "code",
      "metadata": {
        "id": "_1bhq6YS5lsU",
        "colab_type": "code",
        "colab": {}
      },
      "source": [
        "while dataline:\n",
        "    temp = dataline.strip(\"\\n\").split(\"\\t\")     #文字列に対して\"\\n\"を除去し、\"\\t\"で分割する処理をしている\n",
        "    temp = list(map(float,temp))        #tempに保存しているリストの各要素をfloat型に変換\n",
        "    data1.append(temp)        #tempをdata1に追加\n",
        "    dataline=f.readline()\n",
        "f.close()       #fを閉じる"
      ],
      "execution_count": 0,
      "outputs": []
    },
    {
      "cell_type": "markdown",
      "metadata": {
        "id": "Bu-2jcOo6aHt",
        "colab_type": "text"
      },
      "source": [
        "**メモ**\n",
        "<p>文字列に対して.strip()を行うと、文字列内の文字を取り除くことが出来ます。</p>\n",
        "<p>文字列に対して.split()を行うと、引数に指定した文字で分割が行われ、分割結果を要素に持つリストになります。</p>\n",
        "<p>map()は高階関数。関数の名前かラムダ式をはじめに放り込み、2つ目の引数に適用したいリストを入れると、リストの各要素に放り込んだ関数を適用します。mapの出力結果はリストでは無いので、今回はlist()でリストに変換しています。</p>\n"
      ]
    },
    {
      "cell_type": "markdown",
      "metadata": {
        "id": "QQrP7A-E8XWQ",
        "colab_type": "text"
      },
      "source": [
        "<h2>データの可視化</h2>"
      ]
    },
    {
      "cell_type": "markdown",
      "metadata": {
        "id": "tq2MG4qU8bAJ",
        "colab_type": "text"
      },
      "source": [
        "読み込んだものをmatplotlibで可視化しました。"
      ]
    },
    {
      "cell_type": "code",
      "metadata": {
        "id": "F-8TyCUj8NTc",
        "colab_type": "code",
        "colab": {}
      },
      "source": [
        "data1 = np.array(data1)\n",
        "X=data1[:,0]\n",
        "Y=data1[:,1]\n",
        "plt.plot(X,Y)\n",
        "plt.show()"
      ],
      "execution_count": 0,
      "outputs": []
    },
    {
      "cell_type": "markdown",
      "metadata": {
        "id": "9EpoYQQqLSzG",
        "colab_type": "text"
      },
      "source": [
        "<h2>191120LaCaCuO8508GpaMT.datデータの読み込み</h2>"
      ]
    },
    {
      "cell_type": "markdown",
      "metadata": {
        "id": "t7GhCw0ZMB9t",
        "colab_type": "text"
      },
      "source": [
        "初めにcolumn名があり、大量のタブで区切られていたので少しさっきのデータより手順が複雑になりました。"
      ]
    },
    {
      "cell_type": "code",
      "metadata": {
        "id": "x0AJH85CLpeD",
        "colab_type": "code",
        "colab": {}
      },
      "source": [
        "f = open(\"191120LaCaCuO8508GpaMT.dat\")\n",
        "dataline = f.readline()\n",
        "data2=[]\n",
        "valueflag=0\n",
        "while dataline:\n",
        "    temp = dataline\n",
        "    \n",
        "    #データの整形\n",
        "    if(temp[0:2]==\"\\t\"):\n",
        "        temp = temp[2:]   #文字列初めのタブを除いた\n",
        "    temp = temp.strip(\"\\t\\t\").strip(\"\\t\\n\").strip(\"\\n\")\n",
        "    temp = temp.split(\"\\t\")\n",
        "    \n",
        "    if(valueflag!=0):\n",
        "        temp = list(map(float,temp))   #最初の行だけ列名だったので区別した\n",
        "    \n",
        "    data2.append(temp)\n",
        "    dataline = f.readline()\n",
        "    valueflag=1\n",
        "f.close()\n",
        "\n",
        "data2_columns = data2[0]\n",
        "data2_values = data2[1:]"
      ],
      "execution_count": 0,
      "outputs": []
    },
    {
      "cell_type": "markdown",
      "metadata": {
        "id": "T0qcNIA5LtuZ",
        "colab_type": "text"
      },
      "source": [
        "**メモ**\n",
        "<p>なんかもっとシンプルで可読性の高いやり方があれば良いんだけど、わからんので愚直に整形しました。</p>"
      ]
    },
    {
      "cell_type": "markdown",
      "metadata": {
        "id": "iXlPRUma-79v",
        "colab_type": "text"
      },
      "source": [
        "<h2>191120LaCaCuO8508GpaMH.datデータの読み込み</h2>"
      ]
    },
    {
      "cell_type": "markdown",
      "metadata": {
        "id": "YVpYm-yl_MHV",
        "colab_type": "text"
      },
      "source": [
        "先ほどと同様そこそこ愚直に整形した。"
      ]
    },
    {
      "cell_type": "code",
      "metadata": {
        "id": "mALNutlj_Bsu",
        "colab_type": "code",
        "colab": {}
      },
      "source": [
        "f = open(\"191120LaCaCuO8508GpaMH.dat\")\n",
        "data3=f.read()\n",
        "\n",
        "#あとで使うので、空白をNaNに置き換える関数を用意しておく\n",
        "def emptyReplaceNaN(a):\n",
        "    if(a==\"\"):\n",
        "        return \"NaN\"\n",
        "    else:\n",
        "        return a\n",
        "        \n",
        "\n",
        "##[data]以前以後でsplitした\n",
        "data3_Header=data3.split(\"[Data]\")[0]\n",
        "data3_Data=data3.split(\"[Data]\")[1]\n",
        "\n",
        "data3_Data=data3_Data[2:]   #最初の改行を取り除いた\n",
        "splittemp=data3_Data.split(\"\\n\")\n",
        "data3_columns = splittemp[0].split(\",\")\n",
        "data3_values = []\n",
        "for stringline in splittemp[1:]:\n",
        "    temp = stringline\n",
        "    if(len(temp)!=0):      #変な改行がある場合飛ばす  \n",
        "        if(temp[0]==\",\"):\n",
        "            temp = stringline[1:]\n",
        "        splitresult = temp.split(\",\")   #コンマで切った\n",
        "        splitresult = list(map(emptyReplaceNaN,splitresult))   #空白をNaNに置き換え\n",
        "        splitresult = list(map(float,splitresult))     #floatへ変換\n",
        "        data3_values.append(splitresult)\n",
        "f.close()"
      ],
      "execution_count": 0,
      "outputs": []
    }
  ]
}